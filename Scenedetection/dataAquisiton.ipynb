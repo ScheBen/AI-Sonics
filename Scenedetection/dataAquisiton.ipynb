{
 "cells": [
  {
   "cell_type": "code",
   "execution_count": 1,
   "metadata": {},
   "outputs": [],
   "source": [
    "import cv2\n",
    "from pytube import YouTube\n",
    "from tqdm.auto import tqdm\n",
    "import os, sys\n",
    "from PIL import Image"
   ]
  },
  {
   "attachments": {},
   "cell_type": "markdown",
   "metadata": {},
   "source": [
    "<p style=\"text-align: center;\">YT Downloader for Videos</p>"
   ]
  },
  {
   "cell_type": "code",
   "execution_count": null,
   "metadata": {},
   "outputs": [],
   "source": [
    "link = str(\"url: https://www.youtube.com/watch?v=nJ-ucCEaK9Q\")\n",
    "yt = YouTube(link)\n",
    "stream = yt.streams.get_lowest_resolution()\n",
    "print(\"Video download started...\")\n",
    "stream.download()\n",
    "print(\"Download Successful!!!\")"
   ]
  },
  {
   "attachments": {},
   "cell_type": "markdown",
   "metadata": {},
   "source": [
    "<p style=\"text-align: center;\">Video to Frame Converter</p> "
   ]
  },
  {
   "cell_type": "code",
   "execution_count": null,
   "metadata": {},
   "outputs": [],
   "source": [
    "video = 'dataRaw/city/oök.mp4'\n",
    "destination = 'data/output_crawl/new/'"
   ]
  },
  {
   "cell_type": "code",
   "execution_count": null,
   "metadata": {},
   "outputs": [],
   "source": [
    "vid = cv2.VideoCapture(video)\n",
    "i = 0\n",
    "nameCounter = 0"
   ]
  },
  {
   "cell_type": "code",
   "execution_count": null,
   "metadata": {},
   "outputs": [],
   "source": [
    "while vid.isOpened():\n",
    "    ret, frame = vid.read()\n",
    "    frame = cv2.resize (frame, (426,240))\n",
    "    if ret == False:\n",
    "        break\n",
    "    if i % 2 == 0:\n",
    "        nameCounter += 1\n",
    "        cv2.imwrite(destination + str(nameCounter) + '.png', frame)\n",
    "    i += 1\n",
    "\n",
    "vid.release()\n",
    "cv2.destroyAllWindows()"
   ]
  },
  {
   "attachments": {},
   "cell_type": "markdown",
   "metadata": {},
   "source": [
    "<p style=\"text-align: center;\">Rename Data-Files</p>"
   ]
  },
  {
   "cell_type": "code",
   "execution_count": 2,
   "metadata": {},
   "outputs": [],
   "source": [
    "path = os.chdir(\"data/output_crawl_resized/Forest/\")\n",
    "\n",
    "i = 1\n",
    "for file in os.listdir(path):\n",
    "    new_file_name = \"forest{}.png\".format(i)\n",
    "    os.rename(file, new_file_name)\n",
    "    i = i + 1"
   ]
  },
  {
   "cell_type": "code",
   "execution_count": null,
   "metadata": {},
   "outputs": [],
   "source": [
    "#path = 'data/output_crawl/city/'\n",
    "input_directory = 'data/output_crawl/Forest/'\n",
    "output_directory = 'data/output_crawl_resized/Forest/'\n",
    "width = 426\n",
    "height = 240\n",
    "\n",
    "if not os.path.exists(output_directory):\n",
    "        os.makedirs(output_directory)\n",
    "\n",
    "files = os.listdir(input_directory)\n",
    "for file in files:\n",
    "    if file.endswith(('.jpg', '.jpeg', '.png', '.gif')):\n",
    "        try:\n",
    "            image_path = os.path.join(input_directory, file)\n",
    "            image = Image.open(image_path)\n",
    "\n",
    "            # Resize the image\n",
    "            resized_image = image.resize((width, height))\n",
    "\n",
    "            # Create a new filename with .png extension\n",
    "            new_filename = os.path.splitext(file)[0] + '.png'\n",
    "            output_path = os.path.join(output_directory, new_filename)\n",
    "\n",
    "            # Save the image in PNG format\n",
    "            resized_image.save(output_path, 'PNG')\n",
    "\n",
    "            print(f\"Successfully resized {file} and saved as {new_filename}\")\n",
    "        except Exception as e:\n",
    "            print(f\"Failed to resize {file}: {str(e)}\")"
   ]
  }
 ],
 "metadata": {
  "kernelspec": {
   "display_name": "base",
   "language": "python",
   "name": "python3"
  },
  "language_info": {
   "codemirror_mode": {
    "name": "ipython",
    "version": 3
   },
   "file_extension": ".py",
   "mimetype": "text/x-python",
   "name": "python",
   "nbconvert_exporter": "python",
   "pygments_lexer": "ipython3",
   "version": "3.9.7"
  },
  "orig_nbformat": 4
 },
 "nbformat": 4,
 "nbformat_minor": 2
}

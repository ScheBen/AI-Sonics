{
 "cells": [
  {
   "cell_type": "code",
   "execution_count": 1,
   "metadata": {},
   "outputs": [
    {
     "data": {
      "text/plain": [
       "<torch._C.Generator at 0x1d21af928f0>"
      ]
     },
     "execution_count": 1,
     "metadata": {},
     "output_type": "execute_result"
    }
   ],
   "source": [
    "%matplotlib inline\n",
    "from matplotlib import pyplot as plt\n",
    "import numpy as np\n",
    "import collections\n",
    "from PIL import Image\n",
    "import torch\n",
    "import torch.nn as nn\n",
    "import torch.nn.functional as F\n",
    "import torch.optim as optim\n",
    "import os\n",
    "from torchvision.datasets import ImageFolder\n",
    "from torch.utils.data import DataLoader\n",
    "\n",
    "from torchvision import datasets, transforms\n",
    "\n",
    "from MAPutils import determineDevice, TrainTestSplitDLO, validate ,training_loop_ES, plotConfusionMatrix, training_loop_ES_with_soft_voting\n",
    "\n",
    "torch.set_printoptions(edgeitems=2)\n",
    "torch.manual_seed(123)\n",
    "\n"
   ]
  },
  {
   "cell_type": "code",
   "execution_count": 2,
   "metadata": {},
   "outputs": [
    {
     "name": "stdout",
     "output_type": "stream",
     "text": [
      "Using device: cpu\n"
     ]
    }
   ],
   "source": [
    "#device = determineDevice()\n",
    "device = 'cpu'\n",
    "print('Using device:', device)"
   ]
  },
  {
   "cell_type": "code",
   "execution_count": 3,
   "metadata": {},
   "outputs": [],
   "source": [
    "transform = transforms.Compose(\n",
    "    [\n",
    "        transforms.RandomRotation(10),\n",
    "        transforms.RandomHorizontalFlip(),\n",
    "        transforms.ColorJitter(brightness=0.2, contrast=0.2, saturation=0.2, hue=0.2),\n",
    "        transforms.RandomApply([transforms.GaussianBlur(kernel_size=3)], p=0.2),\n",
    "        transforms.ToTensor(),\n",
    "        transforms.Normalize(mean=[0.485, 0.456, 0.406], std=[0.229, 0.224, 0.225]),\n",
    "    ]\n",
    ")"
   ]
  },
  {
   "cell_type": "code",
   "execution_count": 4,
   "metadata": {},
   "outputs": [],
   "source": [
    "trainingSet, testSet = TrainTestSplitDLO(\n",
    "                            baseDir = 'data/output_crawl_resized_train',\n",
    "                            trainSize = 0.2,\n",
    "                            transforms = transform,#augmentation,\n",
    "                            random_state=42,\n",
    "                            shuffle = True,\n",
    "                            stratify = True\n",
    "                        )       "
   ]
  },
  {
   "cell_type": "code",
   "execution_count": 5,
   "metadata": {},
   "outputs": [],
   "source": [
    "class NetFinal(nn.Module):\n",
    "    def __init__(self):\n",
    "        super().__init__()\n",
    "        self.conv1 = nn.Conv2d(3, 16, kernel_size=3)\n",
    "        self.conv1_bn = nn.BatchNorm2d(16)\n",
    "        self.conv2 = nn.Conv2d(16, 64, kernel_size=3)\n",
    "        self.conv2_bn = nn.BatchNorm2d(64)\n",
    "        self.conv3 = nn.Conv2d(64, 32, kernel_size=3)\n",
    "        self.conv3_bn = nn.BatchNorm2d(32)\n",
    "        self.dropout0 = nn.Dropout(p=0.7)\n",
    "        self.fc0 = nn.Linear(32 * 28 * 51, 128)\n",
    "        self.fc0_bn = nn.BatchNorm1d(32 * 28 * 51, 128)\n",
    "        self.dropout1 = nn.Dropout(p=0.5)\n",
    "        self.fc1 = nn.Linear(128, 32)\n",
    "        self.fc2 = nn.Linear(32, 3)\n",
    "\n",
    "    def forward(self, x):\n",
    "        x = F.max_pool2d(F.elu(self.conv1_bn(self.conv1(x))),2)\n",
    "        x = F.max_pool2d(F.elu(self.conv2_bn(self.conv2(x))),2)\n",
    "        x = F.max_pool2d(F.elu(self.conv3_bn(self.conv3(x))),2)\n",
    "        #print(x.size()) # Debugging Line\n",
    "        x = x.view(-1, 32 * 28 * 51)\n",
    "        x = F.elu(self.fc0(self.dropout0(self.fc0_bn(x))))\n",
    "        x = F.elu(self.fc1(self.dropout1(x)))\n",
    "        x = F.elu(self.fc2(x))\n",
    "        return x"
   ]
  },
  {
   "cell_type": "code",
   "execution_count": 6,
   "metadata": {},
   "outputs": [],
   "source": [
    "import copy\n",
    "import datetime \n",
    "import time\n",
    "from tqdm.auto import tqdm"
   ]
  },
  {
   "cell_type": "code",
   "execution_count": null,
   "metadata": {
    "id": "6S_0gQH8Kn9f"
   },
   "outputs": [],
   "source": [
    "train_loader = torch.utils.data.DataLoader(trainingSet, batch_size=64, shuffle=True)  \n",
    "val_loader = torch.utils.data.DataLoader(testSet, batch_size=64, shuffle=False)\n",
    "#train_loader = train_loader.to(device)\n",
    "\n",
    "model = NetFinal()  \n",
    "model = model.to(device)\n",
    "\n",
    "optimizer = optim.AdamW(model.parameters(), lr=1e-4)  \n",
    "loss_fn = nn.CrossEntropyLoss() \n",
    "\n",
    "batch_loss, epoch_loss = training_loop_ES(  \n",
    "    n_epochs = 5000,\n",
    "    optimizer = optimizer,\n",
    "    model = model,\n",
    "    loss_fn = loss_fn,\n",
    "    train_loader = train_loader,\n",
    "    val_loader = val_loader,\n",
    "    EShistory = 10,\n",
    "    device = device\n",
    ")\n",
    "model.eval()"
   ]
  },
  {
   "cell_type": "code",
   "execution_count": 7,
   "metadata": {},
   "outputs": [
    {
     "data": {
      "text/plain": [
       "<All keys matched successfully>"
      ]
     },
     "execution_count": 7,
     "metadata": {},
     "output_type": "execute_result"
    }
   ],
   "source": [
    "# LOAD\n",
    "model = NetFinal()\n",
    "model.load_state_dict(torch.load('data/MAP_FinalModel.pth'))"
   ]
  },
  {
   "cell_type": "code",
   "execution_count": null,
   "metadata": {},
   "outputs": [],
   "source": [
    "plotConfusionMatrix(trainingSet, testSet, model)"
   ]
  },
  {
   "cell_type": "code",
   "execution_count": null,
   "metadata": {},
   "outputs": [],
   "source": [
    "train_loader = torch.utils.data.DataLoader(trainingSet, batch_size=16, shuffle=False)\n",
    "val_loader = torch.utils.data.DataLoader(testSet, batch_size=16, shuffle=False)\n",
    "\n",
    "validate(model, train_loader, val_loader, device = device)"
   ]
  },
  {
   "cell_type": "code",
   "execution_count": null,
   "metadata": {},
   "outputs": [],
   "source": [
    "# SAVE\n",
    "PATH = 'data/MAP_benchmark_Final.pth'\n",
    "torch.save(model.state_dict(), PATH)"
   ]
  },
  {
   "cell_type": "code",
   "execution_count": 9,
   "metadata": {},
   "outputs": [
    {
     "name": "stdout",
     "output_type": "stream",
     "text": [
      "Genauigkeit auf den Testbildern: 83.23%\n"
     ]
    }
   ],
   "source": [
    "test_data_dir = 'data/output_crawl_resized_test'\n",
    "\n",
    "model.eval()s\n",
    "\n",
    "transform = transforms.Compose([\n",
    "    transforms.ToTensor(),\n",
    "    transforms.Normalize(mean=[0.485, 0.456, 0.406], std=[0.229, 0.224, 0.225]),\n",
    "])\n",
    "\n",
    "test_dataset = ImageFolder(test_data_dir, transform=transform)\n",
    "\n",
    "correct = 0\n",
    "total = 0\n",
    "\n",
    "with torch.no_grad():\n",
    "    for i in range(len(test_dataset)):\n",
    "        image, label = test_dataset[i]\n",
    "        image = image.unsqueeze(0)\n",
    "        output = model(image)\n",
    "        _, predicted = torch.max(output.data, 1)\n",
    "        total += 1\n",
    "        correct += (predicted == label).sum().item()\n",
    "\n",
    "accuracy = (correct / total) * 100\n",
    "print(f'Genauigkeit auf den Testbildern: {accuracy:.2f}%')"
   ]
  }
 ],
 "metadata": {
  "kernelspec": {
   "display_name": "Python 3.9.12 ('DLO_Projekt')",
   "language": "python",
   "name": "python3"
  },
  "language_info": {
   "codemirror_mode": {
    "name": "ipython",
    "version": 3
   },
   "file_extension": ".py",
   "mimetype": "text/x-python",
   "name": "python",
   "nbconvert_exporter": "python",
   "pygments_lexer": "ipython3",
   "version": "3.9.7"
  },
  "orig_nbformat": 4,
  "vscode": {
   "interpreter": {
    "hash": "7b60bf90531a2f5770de53c2278620f59655f4e849b3c749048a103c61ab6869"
   }
  }
 },
 "nbformat": 4,
 "nbformat_minor": 2
}
